{
 "cells": [
  {
   "cell_type": "markdown",
   "metadata": {},
   "source": [
    "**Q1:** What is the difference between a t-test and a z-test? Provide an example scenario where you would\n",
    "use each type of test."
   ]
  },
  {
   "cell_type": "markdown",
   "metadata": {},
   "source": [
    "A t-test and a z-test are both statistical hypothesis tests used to make inferences about population parameters based on sample data.\n",
    "\n",
    "\n",
    "**T-Test:**\n",
    "\n",
    "Typically used when you have a small sample size (usually less than 30) or when the population standard deviation is unknown. The t-test accounts for the increased uncertainty with smaller samples.\n",
    "\n",
    "**Z-Test:**\n",
    "\n",
    " Appropriate for larger sample sizes (typically greater than 30) when you can assume that the sample standard deviation is a good estimate of the population standard deviation.\n",
    "\n",
    "**Example Scenarios:**\n",
    "\n",
    "**T-Test:**\n",
    "\n",
    "**Scenario:**\n",
    "\n",
    "You want to assess whether a new teaching method improves student test scores. You randomly select 20 students, teach them using the new method, and compare their scores to their scores before the new method.\n",
    "\n",
    "**Test to Use:** Paired t-test or one-sample t-test (depending on the design).\n",
    "\n",
    "**Reason:** You have a small sample size, and you are comparing two sets of related scores.\n",
    "\n",
    "**Z-Test:**\n",
    "\n",
    "**Scenario:**\n",
    "\n",
    "You work at a large e-commerce company, and you want to test if the average time it takes for customers to complete an online purchase has changed due to a website redesign. You collect data from 500 recent transactions.\n",
    "\n",
    "**Test to Use:** One-sample z-test or two-sample z-test (depending on the research question).\n",
    "\n",
    "**Reason:**\n",
    "\n",
    " With a sample size of 500, you can assume that the sample standard deviation is a good estimate of the population standard deviation, and the sample size is sufficiently large for a z-test."
   ]
  },
  {
   "cell_type": "markdown",
   "metadata": {},
   "source": [
    "**Q2:** Differentiate between one-tailed and two-tailed tests."
   ]
  },
  {
   "cell_type": "markdown",
   "metadata": {},
   "source": [
    "**One-Tailed Test:**\n",
    "\n",
    "Focus: A one-tailed test is used when you are specifically interested in whether a sample statistic is significantly greater than or less than a population parameter, but not both. In other words, you have a directional hypothesis.\n",
    "\n",
    "Hypotheses: There are two types of one-tailed tests:\n",
    "\n",
    "Right-Tailed Test (Upper-Tailed): This is used when you are testing if the sample statistic is significantly greater than the population parameter.\n",
    "\n",
    "Left-Tailed Test (Lower-Tailed): This is used when you are testing if the sample statistic is significantly less than the population parameter.\n",
    "\n",
    "Alpha Level: The significance level (alpha) is concentrated in one tail of the distribution, making it easier to reject the null hypothesis in that specific direction.\n",
    "\n",
    "**Two-Tailed Test:**\n",
    "\n",
    "Focus: A two-tailed test is used when you are interested in whether a sample statistic is significantly different from a population parameter in any direction, either greater or less than. In other words, you have a non-directional hypothesis.\n",
    "\n",
    "Hypotheses: In a two-tailed test, you consider the possibility of a significant difference in both directions simultaneously.\n",
    "\n",
    "Alpha Level: The significance level (alpha) is divided between the two tails of the distribution, making it more conservative. This means you would need stronger evidence to reject the null hypothesis compared to a one-tailed test.\n",
    "\n",
    "**Example:**\n",
    "\n",
    "Let's say you are testing whether a new drug is more effective at reducing blood pressure than an existing drug.\n",
    "\n",
    "**One-Tailed Test:**\n",
    "\n",
    "Right-Tailed Test: You are interested in whether the new drug is significantly better (higher blood pressure reduction) than the existing drug.\n",
    "\n",
    "Left-Tailed Test: You are interested in whether the new drug is significantly worse (lower blood pressure reduction) than the existing drug.\n",
    "\n",
    "**Two-Tailed Test:**\n",
    "\n",
    "You are interested in whether there is a significant difference in blood pressure reduction between the two drugs, without specifying a particular direction. You want to know if the new drug is significantly different, either better or worse."
   ]
  },
  {
   "cell_type": "markdown",
   "metadata": {},
   "source": [
    "**Q3:** Explain the concept of Type 1 and Type 2 errors in hypothesis testing. Provide an example scenario for\n",
    "each type of error."
   ]
  },
  {
   "cell_type": "markdown",
   "metadata": {},
   "source": [
    "**Type 1 Error (False Positive):**\n",
    "\n",
    "**Definition:**\n",
    "\n",
    "Type 1 error occurs when you reject a null hypothesis that is actually true. In other words, you conclude that there is a significant effect or difference when there isn't one in reality.\n",
    "\n",
    "Symbol: Denoted as α (alpha), the significance level.\n",
    "\n",
    "**Example Scenario:**\n",
    "\n",
    "Scenario: A pharmaceutical company is testing a new drug for a disease. The null hypothesis (H0) is that the drug has no effect (i.e., it's not better than a placebo). The alternative hypothesis (Ha) is that the drug is effective.\n",
    "\n",
    "Error: If, based on the sample data, the company rejects the null hypothesis and concludes that the drug is effective (Ha), but in reality, the drug has no effect (H0), it's a Type 1 error. This could lead to the unnecessary marketing and distribution of an ineffective drug.\n",
    "\n",
    "\n",
    "**Type 2 Error (False Negative):**\n",
    "\n",
    "**Definition:**\n",
    "\n",
    " Type 2 error occurs when you fail to reject a null hypothesis that is actually false. In other words, you conclude that there is no significant effect or difference when there actually is one in reality.\n",
    "\n",
    "Symbol: Denoted as β (beta).\n",
    "\n",
    "**Example Scenario:**\n",
    "\n",
    "Scenario: In a criminal trial, the null hypothesis (H0) is that the defendant is innocent (no guilt). The alternative hypothesis (Ha) is that the defendant is guilty.\n",
    "\n",
    "Error: If, based on the evidence presented in court, the jury fails to reject the null hypothesis (H0) and acquits the defendant, but the defendant is actually guilty (Ha), it's a Type 2 error. In this case, a potentially guilty person is set free.\n",
    "\n",
    "The balance between these two types of errors is managed by choosing an appropriate significance level (α) and sample size in hypothesis testing. Lowering α (the significance level) reduces the risk of Type 1 error but increases the risk of Type 2 error, and vice versa. "
   ]
  },
  {
   "cell_type": "markdown",
   "metadata": {},
   "source": [
    "**Q4:** Explain Bayes's theorem with an example."
   ]
  },
  {
   "cell_type": "markdown",
   "metadata": {},
   "source": [
    "**Bayes's theorem is a fundamental concept in probability theory and statistics used to update the probability of a hypothesis based on new evidence.**\n",
    "\n",
    "**Bayes's Theorem Formula:**\n",
    "\n",
    "P(A∣B)= P(B∣A)⋅P(A)/P(B)\n",
    "​\n",
    "\n",
    "Where:\n",
    "\n",
    "P(A∣B) is the posterior probability of hypothesis A being true given evidence B.\n",
    "\n",
    "P(B∣A) is the likelihood of observing evidence B if hypothesis A is true.\n",
    "\n",
    "P(A) is the prior probability of hypothesis A being true before considering evidence B.\n",
    "\n",
    "P(B) is the probability of observing evidence B.\n",
    "\n",
    "The posterior probability (P(A∣B)) is what we want to calculate, which is the probability of the hypothesis being true after considering the new evidence.\n",
    "\n",
    "The likelihood (P(B∣A)) is the probability of observing the evidence under the assumption that the hypothesis is true.\n",
    "\n",
    "The prior probability (P(A)) is the probability of the hypothesis being true before considering the new evidence.\n",
    "\n",
    "The probability of evidence (P(B)) is the overall probability of observing the evidence.\n",
    "\n",
    "\n",
    "**Scenario:**\n",
    "\n",
    "Imagine you're a doctor trying to diagnose a rare medical condition called \"RareX\" in a patient. The disease is quite uncommon, occurring in only 2% of the population (prior probability, \n",
    "\n",
    "P(RareX)=0.02). You have a diagnostic test, TestA, that is not perfect. It correctly identifies RareX in 90% of cases when the patient has the disease (likelihood, \n",
    "\n",
    "P(TestA∣RareX)=0.90). However, it also produces false positives in 10% of cases when RareX is not present (likelihood, P(TestA∣¬RareX)=0.10).\n",
    "\n",
    "You want to find the probability that the patient has RareX given a positive test result (denoted as P(RareX∣TestA)).\n",
    "\n",
    "Using Bayes's theorem:\n",
    "\n",
    "Prior Probability (P(RareX)): The prior probability of the patient having RareX before considering the test result is 2% (0.02).\n",
    "\n",
    "Likelihood (P(TestA∣RareX)): The probability of a positive test result (TestA) when the patient has RareX is 90% (0.90).\n",
    "\n",
    "Likelihood (P(TestA∣¬RareX)): The probability of a positive test result (TestA) when RareX is not present is 10% (0.10).\n",
    "\n",
    "Probability of Evidence (P(TestA)):\n",
    "\n",
    "This is the probability of getting a positive test result, considering both the presence and absence of RareX. You can calculate it using the law of total probability:\n",
    "\n",
    "\n",
    "P(TestA)=P(TestA∣RareX)⋅P(RareX)+P(TestA∣¬RareX)⋅P(¬RareX)\n",
    "\n",
    "P(TestA)=(0.90⋅0.02)+(0.10⋅0.98)=0.018+0.098=0.116\n",
    "\n",
    "Posterior Probability (P(RareX∣TestA)):\n",
    "\n",
    "Using Bayes's theorem, you can now calculate the probability that the patient has RareX given a positive test result:\n",
    "\n",
    "P(RareX∣TestA)=P(TestA∣RareX)⋅P(RareX)/ P(TestA)\n",
    "\n",
    "P(RareX∣TestA)= 0.90*0.02/0.116 ≈ 0.155\n",
    "So, \n",
    "P(RareX∣TestA), the probability that the patient has RareX given a positive test result, is approximately 15.5%. This demonstrates how Bayes's theorem helps update our beliefs about a hypothesis (presence of RareX) based on new evidence (positive TestA result) and prior probabilities."
   ]
  },
  {
   "cell_type": "markdown",
   "metadata": {},
   "source": [
    "**Q5:** What is a confidence interval? How to calculate the confidence interval, explain with an example."
   ]
  },
  {
   "cell_type": "markdown",
   "metadata": {},
   "source": [
    "**Confidence Interval:** A statistical measure to estimate a range of values for a population parameter with a specified level of confidence.\n",
    "\n",
    "**Components Needed:**\n",
    "\n",
    "Sample data from the population.\n",
    "\n",
    "Population parameter you want to estimate (e.g., mean or proportion).\n",
    "\n",
    "Desired confidence level (e.g., 90%, 95%, 99%).\n",
    "\n",
    "Formula for Confidence Interval: The formula depends on the parameter and whether the population standard deviation is known.\n",
    "\n",
    "**Example:** Calculating a Confidence Interval for a Population Mean\n",
    "\n",
    "Collect a random sample (e.g., heights of adult males).\n",
    "\n",
    "Identify the population parameter to estimate (e.g., mean height).\n",
    "\n",
    "Choose a confidence level (e.g., 95%).\n",
    "\n",
    "Formula for Mean with Known Population Standard Deviation:\n",
    "\n",
    "**Confidence Interval = Sample Mean ± (Z-score × Population Standard Deviation / Sample Size)**\n",
    "\n",
    "\n",
    "Calculate Z-score: Find the appropriate Z-score for the chosen confidence level (e.g., 1.96 for 95% confidence).\n",
    "\n",
    "Plug in Values: Insert the sample mean, Z-score, population standard deviation, and sample size into the formula.\n",
    "\n",
    "Interpretation: The result is a range (confidence interval) that provides an estimated interval for the population parameter with the specified level of confidence.\n",
    "\n",
    "Example Outcome: For a 95% confidence level, the 95% confidence interval is approximately (lower bound, upper bound). This means you can be 95% confident that the true population parameter falls within this range based on your sample."
   ]
  },
  {
   "cell_type": "markdown",
   "metadata": {},
   "source": [
    "**Q6.** Use Bayes' Theorem to calculate the probability of an event occurring given prior knowledge of the event's probability and new evidence. Provide a sample problem and solution."
   ]
  },
  {
   "cell_type": "markdown",
   "metadata": {},
   "source": [
    "**Scenario:**\n",
    "\n",
    "Imagine you're a doctor trying to diagnose a rare medical condition called \"RareX\" in a patient. The disease is quite uncommon, occurring in only 2% of the population (prior probability, \n",
    "\n",
    "P(RareX)=0.02). You have a diagnostic test, TestA, that is not perfect. It correctly identifies RareX in 90% of cases when the patient has the disease (likelihood, \n",
    "\n",
    "P(TestA∣RareX)=0.90). However, it also produces false positives in 10% of cases when RareX is not present (likelihood, P(TestA∣¬RareX)=0.10).\n",
    "\n",
    "You want to find the probability that the patient has RareX given a positive test result (denoted as P(RareX∣TestA)).\n",
    "\n",
    "Using Bayes's theorem:\n",
    "\n",
    "Prior Probability (P(RareX)): The prior probability of the patient having RareX before considering the test result is 2% (0.02).\n",
    "\n",
    "Likelihood (P(TestA∣RareX)): The probability of a positive test result (TestA) when the patient has RareX is 90% (0.90).\n",
    "\n",
    "Likelihood (P(TestA∣¬RareX)): The probability of a positive test result (TestA) when RareX is not present is 10% (0.10).\n",
    "\n",
    "Probability of Evidence (P(TestA)):\n",
    "\n",
    "This is the probability of getting a positive test result, considering both the presence and absence of RareX. You can calculate it using the law of total probability:\n",
    "\n",
    "\n",
    "P(TestA)=P(TestA∣RareX)⋅P(RareX)+P(TestA∣¬RareX)⋅P(¬RareX)\n",
    "\n",
    "P(TestA)=(0.90⋅0.02)+(0.10⋅0.98)=0.018+0.098=0.116\n",
    "\n",
    "Posterior Probability (P(RareX∣TestA)):\n",
    "\n",
    "Using Bayes's theorem, you can now calculate the probability that the patient has RareX given a positive test result:\n",
    "\n",
    "**P(RareX∣TestA)=P(TestA∣RareX)⋅P(RareX)/ P(TestA)**\n",
    "\n",
    "P(RareX∣TestA)= 0.90*0.02/0.116 ≈ 0.155\n",
    "So, \n",
    "P(RareX∣TestA), the probability that the patient has RareX given a positive test result, is approximately 15.5%. This demonstrates how Bayes's theorem helps update our beliefs about a hypothesis (presence of RareX) based on new evidence (positive TestA result) and prior probabilities."
   ]
  },
  {
   "cell_type": "markdown",
   "metadata": {},
   "source": [
    "**Q7.** Calculate the 95% confidence interval for a sample of data with a mean of 50 and a standard deviation\n",
    "of 5. Interpret the results."
   ]
  },
  {
   "cell_type": "markdown",
   "metadata": {},
   "source": [
    "\n",
    "Sample Mean : 50\n",
    "\n",
    "Population Standard Deviation : 5\n",
    "\n",
    "Confidence Level: 95%\n",
    "\n",
    "Sample Size (n): Assumed as 30\n",
    "\n",
    "Z-score for a 95% confidence level is approximately 1.96 (standard normal distribution).\n",
    "\n",
    "**Confidence Interval = Sample Mean ± (Z-score × Population Standard Deviation / Sample Size)**\n",
    "\n",
    "Confidence Interval ≈ 50 ± 1.79\n",
    "\n",
    "Resulting 95% Confidence Interval: (48.21, 51.79)\n",
    "\n",
    "**Interpretation:**\n",
    "\n",
    "With 95% confidence, we can say that the true population mean falls within the range of 48.21 to 51.79 based on this sample of data.\n",
    "\n",
    "In most cases, if you were to take many random samples and calculate 95% confidence intervals for each, the true population mean would be within this range about 95% of the time.\n",
    "\n",
    "This interval represents the margin of error or uncertainty associated with estimating the population mean from this sample."
   ]
  },
  {
   "cell_type": "markdown",
   "metadata": {},
   "source": [
    "**Q8.** What is the margin of error in a confidence interval? How does sample size affect the margin of error?\n",
    "Provide an example of a scenario where a larger sample size would result in a smaller margin of error."
   ]
  },
  {
   "cell_type": "markdown",
   "metadata": {},
   "source": [
    "Margin of Error (MOE):\n",
    "\n",
    "MOE is a measure of uncertainty in a confidence interval.\n",
    "\n",
    "It quantifies the range within which the true population parameter is likely to fall.\n",
    "\n",
    "MOE provides precision to the estimate and accounts for sampling variability.\n",
    "\n",
    "**MOE= Z * σ / square root of (n)**\n",
    "\n",
    "​Where\n",
    "\n",
    "(n) = Sample size \n",
    "\n",
    "(σ) = Population Standard Deviation \n",
    "\n",
    "(Z) = Z score\n",
    "\n",
    "\n",
    "\n",
    "**Factors Affecting MOE:**\n",
    "\n",
    "**Confidence Level:**\n",
    "\n",
    "Higher confidence levels result in larger margins of error because they require wider intervals to be more confident about capturing the true parameter value.\n",
    "\n",
    "Common confidence levels include 90%, 95%, and 99%.\n",
    "\n",
    "**Sample Size:**\n",
    "\n",
    "A larger sample size leads to a smaller margin of error.\n",
    "\n",
    "Larger samples provide more information about the population, reducing sampling variability.\n",
    "\n",
    "Smaller samples yield larger margins of error, making the estimate less precise.\n",
    "\n",
    "**Example Scenario:**\n",
    "\n",
    "Consider a political survey to estimate voter support for a candidate.\n",
    "\n",
    "**Scenario 1 (Smaller Sample Size):**\n",
    "\n",
    "Sample size (n): 200\n",
    "\n",
    "MOE: ±5%\n",
    "\n",
    "**Scenario 2 (Larger Sample Size):**\n",
    "\n",
    "Sample size (n): 1000\n",
    "\n",
    "MOE: ±2%\n",
    "\n",
    "In Scenario 2, the larger sample size results in a smaller MOE, indicating a more precise estimate and higher confidence in the results."
   ]
  },
  {
   "cell_type": "markdown",
   "metadata": {},
   "source": [
    "**Q9.** Calculate the z-score for a data point with a value of 75, a population mean of 70, and a population\n",
    "standard deviation of 5. Interpret the results."
   ]
  },
  {
   "cell_type": "markdown",
   "metadata": {},
   "source": [
    "Z= 75−70 / 5\n",
    "\n",
    "Z=1\n",
    "\n",
    "So, the z-score for the data point with a value of 75, a population mean of 70, and a population standard deviation of 5 is 1.\n",
    "\n",
    "**Interpretation:**\n",
    "\n",
    "The z-score represents how many standard deviations the data point is away from the mean. In this case, with a z-score of 1, it means that the data point (75) is 1 standard deviation above the population mean (70). This indicates that the data point is relatively higher than the average value in the population."
   ]
  },
  {
   "cell_type": "markdown",
   "metadata": {},
   "source": [
    "Hypotheses:\n",
    "\n",
    "Null Hypothesis: The new weight loss drug is not significantly effective (μ = 0).\n",
    "\n",
    "Alternative Hypothesis : The new weight loss drug is significantly effective (μ != 0).\n",
    "\n",
    "Significance Level:\n",
    "\n",
    "Set the significance level (α) to 0.05 (corresponding to a 95% confidence level).\n",
    "\n",
    "Sample Information:\n",
    "\n",
    "Sample size (n): 50 participants\n",
    "\n",
    "Sample mean (x): 6 pounds lost\n",
    "\n",
    "Sample standard deviation (s): 2.5 pounds\n",
    "\n",
    "Calculations:\n",
    "\n",
    "Calculate the test statistic t = sqrt(50) * 6 / 2.5 ≈ 16.97\n",
    "\n",
    "t ≈ 16.97\n",
    "\n",
    "Determine the degrees of freedom (df): df=49 (since n−1)\n",
    "\n",
    "Calculate the p-value using the t-distribution \n",
    "\n",
    "Decision:\n",
    "\n",
    "If the p-value < 0.05 (α), reject the null hypothesis.\n",
    "\n",
    "If the p-value ≥ 0.05 (α), fail to reject the null hypothesis."
   ]
  },
  {
   "cell_type": "code",
   "execution_count": 4,
   "metadata": {},
   "outputs": [
    {
     "name": "stdout",
     "output_type": "stream",
     "text": [
      "Sample Mean: 6.0\n",
      "t-statistic: 16.970562748477143\n",
      "p-value: 0.0\n",
      "Reject the null hypothesis. The drug is significantly effective.\n"
     ]
    }
   ],
   "source": [
    "import numpy as np\n",
    "from scipy import stats\n",
    "\n",
    "# Sample data\n",
    "sample_data = np.array([6] * 50) \n",
    "population_mean = 0 \n",
    "sample_stddev = 2.5\n",
    "\n",
    "# Calculate the t-statistic manually\n",
    "sample_mean = np.mean(sample_data)\n",
    "standard_error = sample_stddev / np.sqrt(len(sample_data))\n",
    "t_statistic = (sample_mean - population_mean) / standard_error\n",
    "\n",
    "# Degrees of freedom\n",
    "df = len(sample_data) - 1\n",
    "\n",
    "# Calculate the p-value manually\n",
    "p_value = 2 * (1 - stats.t.cdf(np.abs(t_statistic), df))\n",
    "\n",
    "# Set the significance level (alpha)\n",
    "alpha = 0.05\n",
    "\n",
    "# Print the results\n",
    "print(f\"Sample Mean: {sample_mean}\")\n",
    "print(f\"t-statistic: {t_statistic}\")\n",
    "print(f\"p-value: {p_value}\")\n",
    "\n",
    "\n",
    "# Make a decision based on the p-value\n",
    "if p_value < alpha:\n",
    "    print(\"Reject the null hypothesis. The drug is significantly effective.\")\n",
    "else:\n",
    "    print(\"Fail to reject the null hypothesis. The drug's effectiveness is not significant.\")\n"
   ]
  },
  {
   "cell_type": "markdown",
   "metadata": {},
   "source": [
    "**Q11.** In a survey of 500 people, 65% reported being satisfied with their current job. Calculate the 95%\n",
    "confidence interval for the true proportion of people who are satisfied with their job."
   ]
  },
  {
   "cell_type": "code",
   "execution_count": 6,
   "metadata": {},
   "outputs": [
    {
     "name": "stdout",
     "output_type": "stream",
     "text": [
      "95% Confidence Interval: (0.6082, 0.6918)\n"
     ]
    }
   ],
   "source": [
    "import numpy as np\n",
    "import scipy.stats as stats\n",
    "\n",
    "sample_proportion = 0.65 \n",
    "sample_size = 500\n",
    "\n",
    "# Calculate the standard error\n",
    "standard_error = np.sqrt((sample_proportion * (1 - sample_proportion)) / sample_size)\n",
    "\n",
    "# Set the confidence level and find the critical Z-value (for 95% confidence)\n",
    "confidence_level = 0.95\n",
    "alpha = 1 - confidence_level\n",
    "z_critical = stats.norm.ppf(1 - alpha / 2)  # Two-tailed test\n",
    "\n",
    "# Calculate the margin of error\n",
    "margin_of_error = z_critical * standard_error\n",
    "\n",
    "# Calculate the confidence interval\n",
    "lower_bound = sample_proportion - margin_of_error\n",
    "upper_bound = sample_proportion + margin_of_error\n",
    "\n",
    "# Print the results\n",
    "print(f\"95% Confidence Interval: ({lower_bound:.4f}, {upper_bound:.4f})\")\n"
   ]
  },
  {
   "cell_type": "markdown",
   "metadata": {},
   "source": [
    "**Q12.** A researcher is testing the effectiveness of two different teaching methods on student performance.\n",
    "Sample A has a mean score of 85 with a standard deviation of 6, while sample B has a mean score of 82\n",
    "with a standard deviation of 5. Conduct a hypothesis test to determine if the two teaching methods have a\n",
    "significant difference in student performance using a t-test with a significance level of 0.01."
   ]
  },
  {
   "cell_type": "markdown",
   "metadata": {},
   "source": [
    "To determine if there is a significant difference in student performance between the two teaching methods, you can conduct a two-sample t-test.\n",
    "\n",
    "The null hypothesis typically states that there is no significant difference between the two groups, while the alternative hypothesis suggests that there is a significant difference. "
   ]
  },
  {
   "cell_type": "code",
   "execution_count": 9,
   "metadata": {},
   "outputs": [
    {
     "name": "stdout",
     "output_type": "stream",
     "text": [
      "t_critical: 2.6632869538098674\n",
      "t-statistic: 2.1038606199548298\n",
      "p-value: 0.03973697161571063\n",
      "Fail to reject the null hypothesis. There is no significant difference in student performance.\n"
     ]
    }
   ],
   "source": [
    "import numpy as np\n",
    "import scipy.stats as stats\n",
    "\n",
    "\n",
    "mean_A = 85\n",
    "stddev_A = 6\n",
    "n_A = 30  \n",
    "mean_B = 82\n",
    "stddev_B = 5\n",
    "n_B = 30\n",
    "\n",
    "# Significance level\n",
    "alpha = 0.01\n",
    "\n",
    "# Calculate the test statistic\n",
    "t_statistic, p_value = stats.ttest_ind_from_stats(mean_A, stddev_A, n_A, mean_B, stddev_B, n_B)\n",
    "\n",
    "# Calculate the degrees of freedom\n",
    "df = n_A + n_B - 2\n",
    "\n",
    "# Calculate the critical value\n",
    "t_critical = stats.t.ppf(1 - alpha / 2, df)\n",
    "print(f\"t_critical: {t_critical}\")\n",
    "print(f\"t-statistic: {t_statistic}\")\n",
    "print(f\"p-value: {p_value}\")\n",
    "\n",
    "if abs(t_statistic) > t_critical:\n",
    "    print(\"Reject the null hypothesis. There is a significant difference in student performance.\")\n",
    "else:\n",
    "    print(\"Fail to reject the null hypothesis. There is no significant difference in student performance.\")\n"
   ]
  },
  {
   "cell_type": "markdown",
   "metadata": {},
   "source": [
    "**Q13.** A population has a mean of 60 and a standard deviation of 8. A sample of 50 observations has a mean\n",
    "of 65. Calculate the 90% confidence interval for the true population mean."
   ]
  },
  {
   "cell_type": "code",
   "execution_count": 10,
   "metadata": {},
   "outputs": [
    {
     "name": "stdout",
     "output_type": "stream",
     "text": [
      "90% Confidence Interval: (63.550, 66.450)\n"
     ]
    }
   ],
   "source": [
    "import scipy.stats as stats\n",
    "import math\n",
    "\n",
    "sample_mean = 65\n",
    "population_stddev = 8\n",
    "sample_size = 50\n",
    "\n",
    "# Significance level (alpha) for a 90% confidence interval\n",
    "alpha = 0.10 \n",
    "\n",
    "# Calculate the critical value (Z) for a one-tailed test\n",
    "z_critical = stats.norm.ppf(1 - alpha)\n",
    "\n",
    "standard_error = population_stddev / math.sqrt(sample_size)\n",
    "\n",
    "\n",
    "margin_of_error = z_critical * standard_error\n",
    "\n",
    "# Calculate the confidence interval\n",
    "lower_bound = sample_mean - margin_of_error\n",
    "upper_bound = sample_mean + margin_of_error\n",
    "\n",
    "# Print the results\n",
    "print(f\"90% Confidence Interval: ({lower_bound:.3f}, {upper_bound:.3f})\")\n"
   ]
  },
  {
   "cell_type": "markdown",
   "metadata": {},
   "source": [
    "**Q14.** In a study of the effects of caffeine on reaction time, a sample of 30 participants had an average\n",
    "reaction time of 0.25 seconds with a standard deviation of 0.05 seconds. Conduct a hypothesis test to\n",
    "determine if the caffeine has a significant effect on reaction time at a 90% confidence level using a t-test."
   ]
  },
  {
   "cell_type": "markdown",
   "metadata": {},
   "source": [
    "To determine if caffeine has a significant effect on reaction time, you can conduct a hypothesis test using a one-sample t-test. The null hypothesis  typically states that there is no significant effect, while the alternative hypothesis suggests that there is a significant effect."
   ]
  },
  {
   "cell_type": "code",
   "execution_count": 13,
   "metadata": {},
   "outputs": [
    {
     "name": "stdout",
     "output_type": "stream",
     "text": [
      "Fail to reject the null hypothesis. Caffeine does not have a significant effect on reaction time.\n"
     ]
    }
   ],
   "source": [
    "import scipy.stats as stats\n",
    "import math\n",
    "\n",
    "sample_mean = 0.25\n",
    "sample_stddev = 0.05\n",
    "sample_size = 30\n",
    "\n",
    "# Significance level (alpha) for a 90% confidence interval\n",
    "alpha = 0.10\n",
    "\n",
    "\n",
    "null_mean = 0.25\n",
    "\n",
    "\n",
    "standard_error = sample_stddev / math.sqrt(sample_size)\n",
    "\n",
    "t_statistic = (sample_mean - null_mean) / standard_error\n",
    "\n",
    "# Degrees of freedom\n",
    "df = sample_size - 1\n",
    "\n",
    "# Calculate the critical value for a two-tailed test\n",
    "t_critical = stats.t.ppf(1 - alpha / 2, df)\n",
    "\n",
    "\n",
    "if abs(t_statistic) <= t_critical:\n",
    "    print(\"Fail to reject the null hypothesis. Caffeine does not have a significant effect on reaction time.\")\n",
    "else:\n",
    "    print(\"Reject the null hypothesis. Caffeine has a significant effect on reaction time.\")\n"
   ]
  },
  {
   "cell_type": "code",
   "execution_count": null,
   "metadata": {},
   "outputs": [],
   "source": []
  }
 ],
 "metadata": {
  "kernelspec": {
   "display_name": "Python 3",
   "language": "python",
   "name": "python3"
  },
  "language_info": {
   "codemirror_mode": {
    "name": "ipython",
    "version": 3
   },
   "file_extension": ".py",
   "mimetype": "text/x-python",
   "name": "python",
   "nbconvert_exporter": "python",
   "pygments_lexer": "ipython3",
   "version": "3.11.1"
  },
  "orig_nbformat": 4
 },
 "nbformat": 4,
 "nbformat_minor": 2
}
